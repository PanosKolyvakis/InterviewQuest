{
 "cells": [
  {
   "cell_type": "markdown",
   "metadata": {},
   "source": [
    "Exercises "
   ]
  },
  {
   "cell_type": "code",
   "execution_count": 224,
   "metadata": {},
   "outputs": [
    {
     "name": "stdout",
     "output_type": "stream",
     "text": [
      "the divisors are [1, 3, 401, 1203]\n"
     ]
    }
   ],
   "source": [
    "import numpy as np\n",
    "#  ------------ FIND THE LIST OF DIVISORS OF A SINGLE NUMBER ---------------\n",
    "def find_list_divisors(number):\n",
    "    list_divisors = []\n",
    "\n",
    "    # initiate for loop to iterate from 1 to input number\n",
    "    for i in range(1, number+1 , 1):\n",
    "        if number % i == 0:\n",
    "            list_divisors.append(i)\n",
    "\n",
    "    return (print('the divisors are {}'.format(list_divisors)))\n",
    "result = find_list_divisors(1203)\n",
    "result2 = find_list_divisors(2302)\n"
   ]
  },
  {
   "cell_type": "code",
   "execution_count": 746,
   "metadata": {},
   "outputs": [
    {
     "name": "stdout",
     "output_type": "stream",
     "text": [
      "[2, 3, 5, 7, 11, 13, 17, 19, 23, 29, 31, 37, 41, 43, 47, 53, 59, 61, 67, 71, 73, 79, 83, 89, 97, 101, 103, 107, 109, 113, 127, 131, 137, 139, 149, 151, 157, 163, 167, 173, 179, 181, 191, 193, 197, 199, 211, 223, 227, 229, 233, 239, 241, 251, 257, 263, 269, 271, 277, 281, 283, 293, 307, 311, 313, 317, 331, 337, 347, 349, 353, 359, 367, 373, 379, 383, 389, 397, 401, 409, 419, 421, 431, 433, 439, 443, 449, 457, 461, 463, 467, 479, 487, 491, 499, 503, 509, 521, 523, 541, 547, 557, 563, 569, 571, 577, 587, 593, 599, 601, 607, 613, 617, 619, 631, 641, 643, 647, 653, 659, 661, 673, 677, 683, 691, 701, 709, 719, 727, 733, 739, 743, 751, 757, 761, 769, 773, 787, 797, 809, 811, 821, 823, 827, 829, 839, 853, 857, 859, 863, 877, 881, 883, 887, 907, 911, 919, 929, 937, 941, 947, 953, 967, 971, 977, 983, 991, 997, 1009, 1013, 1019, 1021, 1031, 1033, 1039, 1049, 1051, 1061, 1063, 1069, 1087, 1091, 1093, 1097, 1103, 1109, 1117, 1123]\n",
      "The sum is 97405\n",
      "the product is 7891510399742388322\n",
      "the number of primes is  188\n"
     ]
    },
    {
     "data": {
      "text/plain": [
       "True"
      ]
     },
     "execution_count": 746,
     "metadata": {},
     "output_type": "execute_result"
    }
   ],
   "source": [
    "#  ------------ FIND THE PRIMES WITHIN A RANGE OF NUMBERS ---------------\n",
    "import numpy as np\n",
    "\n",
    "def prime_numbers_calc(start, end):    \n",
    "    prime_list = []\n",
    "    for num in range (start, end + 1 , 1):\n",
    "        if num > 1:\n",
    "            for i in range(2, num):\n",
    "                if num % i ==0:\n",
    "                    break\n",
    "            else:\n",
    "                prime_list.append(num)\n",
    "    print(prime_list)\n",
    "\n",
    "    print('The sum is {}'.format(sum(prime_list)))\n",
    "    print('the product is {}'.format(np.prod(prime_list)))\n",
    "    print('the number of primes is  {}'.format(len(prime_list)))\n",
    "\n",
    "    return True\n",
    "\n",
    "\n",
    "prime_numbers_calc(0,1123)"
   ]
  },
  {
   "cell_type": "code",
   "execution_count": 112,
   "metadata": {},
   "outputs": [
    {
     "name": "stdout",
     "output_type": "stream",
     "text": [
      "(A and B): {4, 5} , P(A and B) = 0.2222222222222222        (A or B):{1, 2, 3, 4, 5, 6, 7, 8, 9} , P(A or B) = 1.0   \n",
      "the P(A) = 0.5555555555555556 and P(B) = 0.6666666666666666 \n",
      "P (B given A) = 0.39999999999999997 P(A given B)] 0.3333333333333333\n"
     ]
    },
    {
     "data": {
      "text/plain": [
       "True"
      ]
     },
     "execution_count": 112,
     "metadata": {},
     "output_type": "execute_result"
    }
   ],
   "source": [
    "#  ------------ FIND THE UNION AND INTERSECTION OF SETS A AND B ---------------\n",
    "from fractions import Fraction\n",
    "def set_int_union(A , B):\n",
    "\n",
    "    intersection , union = A & B , A | B\n",
    "    P_intersection = (len(intersection) / len(union))\n",
    "    \n",
    "    P_A , P_B = (len (list(A))/len(union)) ,(len(list(B))/len(union))\n",
    "    P_union = P_A + P_B - P_intersection\n",
    "    P_AgivenB = P_intersection / P_B \n",
    "    P_BGgivenA = P_intersection / P_A\n",
    "\n",
    "\n",
    "    print('(A and B): {} , P(A and B) = {}        (A or B):{} , P(A or B) = {}   '.format((intersection) , P_intersection, union , P_union) )\n",
    "    print('the P(A) = {} and P(B) = {} '.format( P_A , P_B))\n",
    "    print('P (B given A) = {} P(A given B)] {}'.format(P_BGgivenA , P_AgivenB))\n",
    "    return True\n",
    "\n",
    "set_int_union(A = set([1,2,3,4,5]) , B = set([4,5,6,7,8,9]))"
   ]
  },
  {
   "cell_type": "code",
   "execution_count": 462,
   "metadata": {},
   "outputs": [
    {
     "name": "stdout",
     "output_type": "stream",
     "text": [
      "3.141592653589793\n"
     ]
    }
   ],
   "source": [
    "import math\n",
    "import numpy as np \n",
    "# math.comb()\n",
    "# np.log()\n",
    "# np.exp()\n",
    "print(math.pi)\n"
   ]
  },
  {
   "cell_type": "code",
   "execution_count": 747,
   "metadata": {},
   "outputs": [
    {
     "name": "stdout",
     "output_type": "stream",
     "text": [
      "the calculated error of pi is 3.1312 and the % difference is 3.196009967490758e-05 %\n"
     ]
    }
   ],
   "source": [
    "import random \n",
    "import math\n",
    "import numpy as np\n",
    "\n",
    "class MonteCarlo_pi(object):\n",
    "\n",
    "    def __init__(self, sims , r):\n",
    "        self.sims = sims\n",
    "        self.r = r\n",
    "\n",
    "    def MonteCarlo_pi_func (self):\n",
    "        inner_points = 0\n",
    "        for i in range (self.sims):\n",
    "\n",
    "            x = random.random()\n",
    "            y = random.random()\n",
    "\n",
    "            if x**2 + y**2 <= self.r**2:\n",
    "                inner_points +=1\n",
    "            else:\n",
    "                pass\n",
    "        result = 4* (inner_points / self.sims)\n",
    "        \n",
    "        return (result)\n",
    "    \n",
    "    def ErrorFunc(self):\n",
    "        \n",
    "        return ((abs(math.pi - (MonteCarlo_pi.MonteCarlo_pi_func(self)))) / (MonteCarlo_pi.MonteCarlo_pi_func(self))/100)\n",
    "\n",
    "\n",
    "\n",
    "# object MonteCarlo pi with 10000 sims and r = 1\n",
    "pi_res = MonteCarlo_pi(10000, 1)\n",
    "print( 'the calculated error of pi is {} and the % difference is {} %'.format(pi_res.MonteCarlo_pi_func() , pi_res.ErrorFunc()))\n",
    "\n",
    "\n"
   ]
  },
  {
   "cell_type": "code",
   "execution_count": null,
   "metadata": {},
   "outputs": [],
   "source": [
    "\n",
    "\n",
    "class Element(object):\n",
    "    def __init__(self, value):\n",
    "        self.value = value\n",
    "        self.next = None\n",
    "        \n",
    "class LinkedList(object):\n",
    "    def __init__(self, head=None):\n",
    "        self.head = head\n",
    "        \n",
    "    def append(self, new_element):\n",
    "        current = self.head\n",
    "        if self.head:\n",
    "            while current.next:\n",
    "                current = current.next\n",
    "            current.next = new_element\n",
    "        else:\n",
    "            self.head = new_element\n",
    "            \n",
    "    def get_position(self, position):\n",
    "        \"\"\"Get an element from a particular position.\n",
    "        Assume the first position is \"1\".\n",
    "        Return \"None\" if position is not in the list.\"\"\"\n",
    "        count = 1\n",
    "        current = self.head\n",
    "        self.position = position\n",
    "        if self.head:\n",
    "            while current != position:\n",
    "                current = current.next\n",
    "                count +=1\n",
    "        else:\n",
    "            return count\n",
    " \n",
    "\n",
    "        return None\n",
    "    \n",
    "    def insert(self, new_element, position):\n",
    "        \"\"\"Insert a new node at the given position.\n",
    "        Assume the first position is \"1\".\n",
    "        Inserting at position 3 means between\n",
    "        the 2nd and 3rd elements.\"\"\"\n",
    "        pass\n",
    "    \n",
    "    \n",
    "    def delete(self, value):\n",
    "        \"\"\"Delete the first node with a given value.\"\"\"\n",
    "        pass\n",
    "\n",
    "# # Test cases\n",
    "# # Set up some Elements\n",
    "# e1 = Element(1)\n",
    "# e2 = Element(2)\n",
    "# e3 = Element(3)\n",
    "# e4 = Element(4)\n",
    "\n",
    "# # Start setting up a LinkedList\n",
    "# ll = LinkedList(e1)\n",
    "# ll.append(e2)\n",
    "# ll.append(e3)\n",
    "\n",
    "# # Test get_position\n",
    "# # Should print 3\n",
    "# print ll.head.next.next.value\n",
    "# # Should also print 3\n",
    "# print ll.get_position(3).value\n",
    "\n",
    "# # Test insert\n",
    "# ll.insert(e4,3)\n",
    "# # Should print 4 now\n",
    "# print ll.get_position(3).value\n",
    "\n",
    "# # Test delete\n",
    "# ll.delete(1)\n",
    "# # Should print 2 now\n",
    "# print ll.get_position(1).value\n",
    "# # Should print 4 now\n",
    "# print ll.get_position(2).value\n",
    "# # Should print 3 now\n",
    "# print ll.get_position(3).value"
   ]
  },
  {
   "cell_type": "code",
   "execution_count": 117,
   "metadata": {},
   "outputs": [
    {
     "name": "stdout",
     "output_type": "stream",
     "text": [
      "0\n",
      "1\n",
      "5\n",
      "6\n",
      "-1\n"
     ]
    }
   ],
   "source": [
    "#  ------------ BINARY SEARCH OF A LIST ---------------\n",
    "def binary_search(input_array, value):\n",
    "    \"\"\"Your code goes here.\"\"\"\n",
    "    middle = int(len(input_array)/2)\n",
    "    \n",
    "    # iterating over the RHS of list\n",
    "    if value >= input_array[middle]:\n",
    "        for i in range(middle, len(input_array)):\n",
    "            if value == input_array[i]:\n",
    "                return i\n",
    "            else:\n",
    "                continue\n",
    "    # iterating over the LHS of list    \n",
    "    elif value < input_array[middle]:\n",
    "        for i in range(0, middle):\n",
    "            if value == input_array[i]:\n",
    "                return i\n",
    "        \n",
    "    else:\n",
    "        pass\n",
    "        \n",
    "    return -1\n",
    "    # testing conditions\n",
    "print (binary_search([1,3,9,11,15,19,29], 1))\n",
    "print (binary_search([1,3,9,11,15,19,29], 3))\n",
    "print (binary_search([1,3,9,11,15,19,29], 19))\n",
    "print (binary_search([1,3,9,11,15,19,29], 29))\n",
    "print (binary_search([1,3,9,11,15,19,29], 20))"
   ]
  },
  {
   "cell_type": "code",
   "execution_count": 195,
   "metadata": {},
   "outputs": [
    {
     "name": "stdout",
     "output_type": "stream",
     "text": [
      "34\n",
      "89\n",
      "0\n",
      "None\n"
     ]
    }
   ],
   "source": [
    "#  ------------ FIBONACCI SEQUENCE ---------------\n",
    "\n",
    "def get_fib(position):\n",
    "    fibonacci_1, fibonacci_2 = 0 , 1\n",
    "    count = 1\n",
    "    if position == 0:\n",
    "        print(fibonacci_1)\n",
    "    else:\n",
    "        while count < position:\n",
    "            fibonacci_n = fibonacci_1 + fibonacci_2\n",
    "            fibonacci_1 = fibonacci_2\n",
    "            fibonacci_2 = fibonacci_n\n",
    "            count += 1\n",
    "        return fibonacci_n\n",
    "\n",
    "    \n",
    "            \n",
    "    \n",
    "\n",
    "# Test cases\n",
    "print (get_fib(9))\n",
    "print (get_fib(11))\n",
    "print (get_fib(0))\n"
   ]
  },
  {
   "cell_type": "code",
   "execution_count": 306,
   "metadata": {},
   "outputs": [
    {
     "name": "stdout",
     "output_type": "stream",
     "text": [
      "[-9, -8, 1, 1, 1, 1, 10]\n"
     ]
    }
   ],
   "source": [
    "#  ------------ BUBBLE sort ALGORITHM ---------------\n",
    "def bubble_sort(array):\n",
    "    \n",
    "    # swapped = False\n",
    "    for i in range(len(array)):\n",
    "        for j in range(len(array) - i -1):\n",
    "\n",
    "            if array[j] > array[j+1]:\n",
    "                # swapped = True\n",
    "\n",
    "                \n",
    "                array[j], array[j + 1] = array[j + 1] , array[j]\n",
    "           \n",
    "            \n",
    "    return array\n",
    "    \n",
    "array = [1,1,1, -9, 1 , -8 , 10]\n",
    "print(bubble_sort(array))\n"
   ]
  },
  {
   "cell_type": "code",
   "execution_count": 471,
   "metadata": {},
   "outputs": [
    {
     "name": "stdout",
     "output_type": "stream",
     "text": [
      "None\n"
     ]
    }
   ],
   "source": [
    "#  ------------ QUICK sort ALGORITHM ---------------\n",
    "\n",
    "\n",
    "def partition(array, begin, end):\n",
    "    pivot = begin\n",
    "    for i in range(begin+1, end+1):\n",
    "        if array[i] <= array[begin]:\n",
    "            pivot += 1\n",
    "            array[i], array[pivot] = array[pivot], array[i]\n",
    "    array[pivot], array[begin] = array[begin], array[pivot]\n",
    "    return pivot\n",
    "    \n",
    "\n",
    "\n",
    "def quicksort(array, begin=0, end=None):\n",
    "    if end is None:\n",
    "        end = len(array) - 1\n",
    "    def _quicksort(array, begin, end):\n",
    "        if begin >= end:\n",
    "            return\n",
    "        pivot = partition(array, begin, end)\n",
    "        _quicksort(array, begin, pivot-1) \n",
    "        _quicksort(array, pivot+1, end)\n",
    "    return _quicksort(array, begin, end)\n",
    "\n",
    "test = [21, 4, 1, 3, 9, 20, 25, 6, 21, 14]\n",
    "print(quicksort(test))"
   ]
  },
  {
   "cell_type": "code",
   "execution_count": 313,
   "metadata": {},
   "outputs": [
    {
     "name": "stdout",
     "output_type": "stream",
     "text": [
      "[-10, -1, 1, 3, 9, 6, 8, 10]\n"
     ]
    }
   ],
   "source": [
    "def bubble_sort(array):\n",
    "    for i in range(len(array)):\n",
    "        for j in range(len(array) - i - 1):\n",
    "            \n",
    "            if array[i] > array[i +1]:\n",
    "                array[i], array[i+1] = array[i+1] , array[i]\n",
    "            else:\n",
    "                pass\n",
    "\n",
    "    return array\n",
    "\n",
    "array = [-1 , -10, 3 ,1 ,10, 9, 6, 8]\n",
    "print(bubble_sort(array))"
   ]
  },
  {
   "cell_type": "code",
   "execution_count": 346,
   "metadata": {},
   "outputs": [
    {
     "name": "stdout",
     "output_type": "stream",
     "text": [
      "[8, 3, 1, 7, 0, 10, 2]\n",
      "6\n",
      "[8, 10, 3, 7, 2, 0, 1]\n"
     ]
    }
   ],
   "source": [
    "def quicksort(array):\n",
    "\n",
    "    pivot_index = (len(array) - 1)\n",
    "    print(pivot_index)\n",
    "    high_array = len(array)\n",
    "    low_array = 0\n",
    "\n",
    "    for i in range(0 ,  pivot_index + 1):\n",
    "        if array[i] < array[pivot_index]:\n",
    "            array[i], array[pivot_index] = array[pivot_index] ,  array[i]\n",
    "        if array[pivot_index] < array[pivot_index - 1 ]:\n",
    "            array[pivot_index - 1], array[pivot_index] = array[pivot_index], array[pivot_index-1]\n",
    "\n",
    "\n",
    "\n",
    "    # for i in range(0 ,  pivot_index + 1):\n",
    "    #     if array[pivot_index] < array[pivot_index - 1 ] and (array[i] < array[pivot_index]):\n",
    "\n",
    "    #         array[pivot_index - 1], array[pivot_index] = array[pivot_index], array[pivot_index-1]\n",
    "    #         array[i], array[pivot_index] = array[pivot_index] ,  array[i]\n",
    "\n",
    "    return array\n",
    "array = [8 , 3, 1, 7, 0, 10, 2]\n",
    "print(array)\n",
    "print(quicksort(array))\n",
    "\n"
   ]
  },
  {
   "cell_type": "code",
   "execution_count": 470,
   "metadata": {},
   "outputs": [
    {
     "name": "stdout",
     "output_type": "stream",
     "text": [
      "4\n",
      "0\n"
     ]
    },
    {
     "data": {
      "text/plain": [
       "[3, 2, 7, 0, 1, 8, 10]"
      ]
     },
     "execution_count": 470,
     "metadata": {},
     "output_type": "execute_result"
    }
   ],
   "source": [
    "def quick_sort(array):\n",
    "\n",
    "    low , equal , high = [], [], []\n",
    "\n",
    "    \n",
    "    if len(array) > 1:\n",
    "        pivot = array[0]\n",
    "        for x in array:\n",
    "            if x <pivot:\n",
    "                low.append(x)\n",
    "            elif x > pivot:\n",
    "                high.append(x)\n",
    "            elif x == pivot:\n",
    "                equal.append(x)\n",
    "    \n",
    "    return quicksort(low) + equal + quicksort(high)\n",
    "\n",
    "\n",
    "quick_sort([8, 3, 1, 7, 0, 10, 2])\n",
    "    \n"
   ]
  },
  {
   "cell_type": "code",
   "execution_count": 593,
   "metadata": {},
   "outputs": [
    {
     "name": "stdout",
     "output_type": "stream",
     "text": [
      "['Atlanda', 'Mountain View']\n",
      " China : ['Shanghai'] \n",
      " India : ['Bangalore'] \n"
     ]
    }
   ],
   "source": [
    "locations = {'North America': {'USA': ['Mountain View' ,'Atlanda'] } , \n",
    "'Asia': {'India': ['Bangalore'] ,'China' : ['Shanghai']},\n",
    " 'Africa' : {'Egypt': ['Cairo']} }\n",
    "\n",
    "dictionary = {}\n",
    "dictionary.update(locations)\n",
    "\n",
    "# 1. A list of all cities in the USA in alphabetic order.\n",
    "\n",
    "cities = dictionary['North America']['USA']\n",
    "print(sorted(cities))\n",
    "\n",
    "# 2. All cities in Asia, in alphabetic order, next to the name of the country.\n",
    "\n",
    "\n",
    "asian_cities = dictionary['Asia']\n",
    "\n",
    "for city , country in sorted(asian_cities.items()):\n",
    "    print(\" {} : {} \".format(city, country))\n",
    "\n",
    "\n",
    "\n",
    "\n",
    "\n"
   ]
  },
  {
   "cell_type": "code",
   "execution_count": 652,
   "metadata": {},
   "outputs": [
    {
     "name": "stdout",
     "output_type": "stream",
     "text": [
      "103.79362499999999\n",
      "-1\n",
      "8625800904386370783\n",
      "8625800904386370783\n"
     ]
    }
   ],
   "source": [
    "\"\"\"Write a HashTable class that stores strings\n",
    "in a hash table, where keys are calculated\n",
    "using the first two letters of the string.\"\"\"\n",
    "\n",
    "class HashTable(object):\n",
    "    def __init__(self):\n",
    "        self.table = [None]*10000\n",
    "        self.string = string\n",
    "    def store(self, string):\n",
    "        \"\"\"Input a string that's stored in \n",
    "        the table.\"\"\"\n",
    "        self.table.append(self.string)\n",
    "        pass\n",
    "\n",
    "    def lookup(self, string):\n",
    "        \"\"\"Return the hash value if the\n",
    "        string is already in the table.\n",
    "        Return -1 otherwise.\"\"\"\n",
    "        if self.string in self.table:\n",
    "            return hash(self.string)\n",
    "        else:\n",
    "            return -1\n",
    "\n",
    "    def calculate_hash_value(self, string):\n",
    "        \"\"\"Helper function to calulate a\n",
    "        hash value from a string.\"\"\"\n",
    "\n",
    "        hash = ord(self.string[0]) * (117/200)**1 + ord(self.string[1]) * (117/200)**2\n",
    "        return hash\n",
    "  \n",
    "    \n",
    "# Setup\n",
    "hash_table = HashTable()\n",
    "\n",
    "# Test calculate_hash_value\n",
    "# Should be 8568\n",
    "print (hash_table.calculate_hash_value('UDACITY'))\n",
    "\n",
    "# Test lookup edge case\n",
    "# Should be -1\n",
    "print (hash_table.lookup('UDACITY'))\n",
    "\n",
    "# Test store\n",
    "hash_table.store('UDACITY')\n",
    "# Should be 8568\n",
    "print (hash_table.lookup('UDACITY'))\n",
    "\n",
    "# Test store edge case\n",
    "hash_table.store('UDACIOUS')\n",
    "# Should be 8568\n",
    "print (hash_table.lookup('UDACIOUS'))\n"
   ]
  },
  {
   "cell_type": "code",
   "execution_count": 685,
   "metadata": {},
   "outputs": [
    {
     "name": "stdout",
     "output_type": "stream",
     "text": [
      "True\n",
      "False\n",
      "1-2-4-5-3\n"
     ]
    }
   ],
   "source": [
    "# ---- Search tree code\n",
    "class Node(object):\n",
    "    def __init__(self, value):\n",
    "        self.value = value\n",
    "        self.left = None\n",
    "        self.right = None\n",
    "\n",
    "class BinaryTree(object):\n",
    "    def __init__(self, root):\n",
    "        self.root = Node(root)\n",
    "\n",
    "    def search(self, find_val):\n",
    "        \"\"\"Return True if the value\n",
    "        is in the tree, return\n",
    "        False otherwise.\"\"\"\n",
    "        if self.root == None:\n",
    "            return False\n",
    "        else:\n",
    "            return BinaryTree.preorder_search(self, self.root, find_val)\n",
    "\n",
    "    def print_tree(self):\n",
    "        \"\"\"Print out all tree nodes\n",
    "        as they are visited in\n",
    "        a pre-order traversal.\"\"\"\n",
    "        traversal = []\n",
    "        BinaryTree.preorder_print(self, self.root, traversal)\n",
    "        return '-'.join(traversal)\n",
    "\n",
    "    def preorder_search(self, start, find_val):\n",
    "        \"\"\"Helper method - use this to create a \n",
    "        recursive search solution.\"\"\"\n",
    "        if start:\n",
    "            if start.value == find_val:\n",
    "                return True\n",
    "            left = BinaryTree.preorder_search(self, start.left, find_val)\n",
    "            right = BinaryTree.preorder_search(self, start.right, find_val)\n",
    "            return left or right\n",
    "        else:\n",
    "            return False\n",
    "\n",
    "    def preorder_print(self, start, traversal):\n",
    "        \"\"\"Helper method - use this to create a \n",
    "        recursive print solution.\"\"\"\n",
    "\n",
    "        if start:\n",
    "            value = start.value\n",
    "            traversal.append(str(value))\n",
    "            BinaryTree.preorder_print(self, start.left, traversal)\n",
    "            BinaryTree.preorder_print(self, start.right, traversal)\n",
    "\n",
    "# Set up tree\n",
    "tree = BinaryTree(1)\n",
    "tree.root.left = Node(2)\n",
    "tree.root.right = Node(3)\n",
    "tree.root.left.left = Node(4)\n",
    "tree.root.left.right = Node(5)\n",
    "\n",
    "# Test search\n",
    "# Should be True\n",
    "print (tree.search(4))\n",
    "# Should be False\n",
    "print (tree.search(6))\n",
    "\n",
    "# Test print_tree\n",
    "# Should be 1-2-4-5-3\n",
    "print (tree.print_tree())"
   ]
  },
  {
   "cell_type": "code",
   "execution_count": 687,
   "metadata": {},
   "outputs": [
    {
     "name": "stdout",
     "output_type": "stream",
     "text": [
      "True\n",
      "None\n"
     ]
    }
   ],
   "source": [
    "class Node(object):\n",
    "    def __init__(self, value):\n",
    "        self.value = value\n",
    "        self.left = None\n",
    "        self.right = None\n",
    "\n",
    "class BST(object):\n",
    "    def __init__(self, root):\n",
    "        self.root = Node(root)\n",
    "\n",
    "    def insert(self, new_val):\n",
    "        self.insert_helper(self.root, new_val)\n",
    "\n",
    "    def insert_helper(self, current, new_val):\n",
    "        if current.value < new_val:\n",
    "            if current.right:\n",
    "                self.insert_helper(current.right, new_val)\n",
    "            else:\n",
    "                current.right = Node(new_val)\n",
    "        elif current.value > new_val:\n",
    "            if current.left:\n",
    "                self.insert_helper(current.left, new_val)\n",
    "            else:\n",
    "                current.left = Node(new_val)\n",
    "\n",
    "    def print_tree(self):\n",
    "        return self.preorder_print(tree.root, \"\")[:-1]\n",
    "\n",
    "    def preorder_print(self, start, traversal):\n",
    "        if start:\n",
    "            traversal += (str(start.value) + \"-\")\n",
    "            traversal = self.preorder_print(start.left, traversal)\n",
    "            traversal = self.preorder_print(start.right, traversal)\n",
    "        return traversal\n",
    "\n",
    "    def search(self, find_val):\n",
    "        return self.search_helper(self.root, find_val)\n",
    "\n",
    "    def search_helper(self, current, find_val):\n",
    "        if current.value == find_val:\n",
    "            return True\n",
    "\n",
    "        else:\n",
    "            if current.value < find_val:\n",
    "                if current.right:\n",
    "                    self.search_helper(current.right, find_val)\n",
    "                else:\n",
    "                    return False\n",
    "            elif current_value > find_val:\n",
    "                if current.left:\n",
    "                    self.search_helper(current.left, find_val)\n",
    "                else:\n",
    "                    return False\n",
    "\n",
    "# Set up tree\n",
    "tree = BST(4)\n",
    "\n",
    "\n",
    "# Insert elements\n",
    "tree.insert(2)\n",
    "tree.insert(1)\n",
    "tree.insert(3)\n",
    "tree.insert(5)\n",
    "\n",
    "# Check search\n",
    "# Should be True\n",
    "print (tree.search(4))\n",
    "# Should be False\n",
    "print (tree.search(6))"
   ]
  },
  {
   "cell_type": "code",
   "execution_count": 715,
   "metadata": {},
   "outputs": [
    {
     "data": {
      "text/plain": [
       "[2, 1, 4, 3, 5]"
      ]
     },
     "execution_count": 715,
     "metadata": {},
     "output_type": "execute_result"
    }
   ],
   "source": [
    "class Node(object):\n",
    "    def __init__(self, value):\n",
    "        self.value = value\n",
    "        self.next = None\n",
    "\n",
    "\n",
    "    def print_linked_list(head):\n",
    "        current_node = head\n",
    "        norm_list= []\n",
    "        while current_node:\n",
    "            norm_list.append(current_node.value)\n",
    "            current_node = current_node.next\n",
    "        return norm_list\n",
    "\n",
    "    \n",
    "head = Node(2)\n",
    "head.next = Node(1)\n",
    "head.next.next = Node(4)\n",
    "head.next.next.next = Node(3)\n",
    "head.next.next.next.next = Node(5)\n",
    "\n",
    "Node.print_linked_list(head)\n",
    "\n",
    "\n",
    "\n",
    "\n",
    "\n",
    "\n"
   ]
  },
  {
   "cell_type": "code",
   "execution_count": 764,
   "metadata": {},
   "outputs": [
    {
     "name": "stdout",
     "output_type": "stream",
     "text": [
      "[0, 1, 1, 2, 3, 5, 8, 13, 21, 34, 55, 89]\n"
     ]
    }
   ],
   "source": [
    "def fibonacci_of(n):\n",
    "    if n in {0,1}:\n",
    "        return n\n",
    "    return fibonacci_of(n-1) + fibonacci_of(n-2) # recursive\n",
    "\n",
    "fibonacci_list = [fibonacci_of(n) for n in range(12)]\n",
    "print(fibonacci_list)"
   ]
  },
  {
   "cell_type": "code",
   "execution_count": 811,
   "metadata": {},
   "outputs": [
    {
     "name": "stdout",
     "output_type": "stream",
     "text": [
      "0\n"
     ]
    }
   ],
   "source": [
    "class Solution(object):\n",
    "    def searchInsert(self, nums, target):\n",
    "        \"\"\"\n",
    "        :type nums: List[int]\n",
    "        :type target: int\n",
    "        :rtype: int\n",
    "        \"\"\"\n",
    "        self.nums = nums\n",
    "        self.target = target \n",
    "\n",
    "        middle = int(len(self.nums)//2)\n",
    "        \n",
    "\n",
    "        if self.target <= middle:\n",
    "            for i in range(0 , middle):\n",
    "                if self.target in self.nums:\n",
    "                    if self.nums[i] == self.target:\n",
    "                        return i\n",
    "                        \n",
    "                elif self.target not in self.nums:\n",
    "                    \n",
    "                    if self.target < self.nums[i+1] and self.target > self.nums[i]:\n",
    "                        return i\n",
    "                    \n",
    "\n",
    "        elif self.target > middle:\n",
    "            for i in range(middle , len(self.nums) ):\n",
    "                if self.target not in self.nums:\n",
    "                    if self.nums[i] == self.target:\n",
    "                        return i\n",
    "                    elif self.target not in self.nums:\n",
    "                        while self.nums[i] < middle:\n",
    "                            if self.target < self.nums[i+1] and self.target > self.nums[i]:\n",
    "                                return i\n",
    "        \n",
    "\n",
    "list = Solution()\n",
    "nums = [1,3,5,6]\n",
    "# nums = [1,3,5,6],\n",
    "target = 2\n",
    "\n",
    "print(list.searchInsert(nums, target))\n",
    "\n",
    "      "
   ]
  },
  {
   "cell_type": "code",
   "execution_count": 822,
   "metadata": {},
   "outputs": [],
   "source": [
    "class Solution:\n",
    "    def mySqrt(self, x):\n",
    "        low = 1\n",
    "        high = x\n",
    "        while True:\n",
    "            mid = (low + high)//2\n",
    "            if mid * mid > x:\n",
    "                high = mid\n",
    "            elif mid * mid < x:\n",
    "                low = mid\n",
    "            if mid * mid <= x < (mid+1)*(mid+1):\n",
    "                return mid"
   ]
  },
  {
   "cell_type": "code",
   "execution_count": 12,
   "metadata": {},
   "outputs": [
    {
     "name": "stdout",
     "output_type": "stream",
     "text": [
      "0\n"
     ]
    }
   ],
   "source": [
    "\n",
    "# search insert -- doesnt work in some cases\n",
    "class Solution(object):\n",
    "    def searchInsert(self, nums, target):\n",
    "        \"\"\"\n",
    "        :type nums: List[int]\n",
    "        :type target: int\n",
    "        :rtype: int\n",
    "        \"\"\"\n",
    "        self.nums = nums\n",
    "        self.target = target \n",
    "\n",
    "        if len(self.nums) ==1 :\n",
    "            if self.target == self.nums[0]:\n",
    "                return 0\n",
    "            elif self.target not in self.nums:\n",
    "                if self.nums[0] > self.target:\n",
    "                    return 0 \n",
    "                else:\n",
    "                    return 1\n",
    "        else:\n",
    "            middle = int(len(self.nums)/2 )\n",
    "\n",
    "\n",
    "            if self.target in self.nums:\n",
    "                if self.target <= middle:\n",
    "                    for i in range(0 , middle):\n",
    "                        if self.nums[i] == self.target:\n",
    "                            return i\n",
    "    \n",
    "                elif self.target > middle:\n",
    "                    for i in range(middle , len(self.nums)):\n",
    "                        if self.nums[i] == self.target:\n",
    "                            return i\n",
    "    \n",
    "            else:\n",
    "                self.nums.append(self.target)\n",
    "                self.nums.sort()\n",
    "                return self.nums.index(self.target)\n",
    "sol = Solution()\n",
    "\n",
    "nums = [2,3,4,8]\n",
    "\n",
    "target = 2\n",
    "print(sol.searchInsert(nums, target))"
   ]
  },
  {
   "cell_type": "code",
   "execution_count": null,
   "metadata": {},
   "outputs": [],
   "source": [
    "\n",
    "# search insert algorithm\n",
    "\n",
    "class Solution(object):\n",
    "    def searchInsert(self, nums, target):\n",
    "        \"\"\"\n",
    "        :type nums: List[int]\n",
    "        :type target: int\n",
    "        :rtype: int\n",
    "        \"\"\"\n",
    "        self.nums = nums\n",
    "        self.target = target \n",
    "\n",
    "        if self.target in self.nums:\n",
    "            for i in range(len(self.nums)):\n",
    "                if self.nums == target:\n",
    "                    return i \n",
    "        else:\n",
    "            self.nums.append(self.target)\n",
    "            self.nums.sort()\n",
    "            return self.nums.index(self.target)\n",
    "\n",
    "        "
   ]
  },
  {
   "cell_type": "code",
   "execution_count": 50,
   "metadata": {},
   "outputs": [
    {
     "name": "stdout",
     "output_type": "stream",
     "text": [
      "[0, 1, 9, 16, 100]\n"
     ]
    }
   ],
   "source": [
    "# Given an integer array nums sorted in non-decreasing order, return an array of the squares of each number sorted in non-decreasing order.\n",
    "\n",
    "# Input: nums = [-4,-1,0,3,10]\n",
    "# Output: [0,1,9,16,100]\n",
    "# Explanation: After squaring, the array becomes [16,1,0,9,100].\n",
    "# After sorting, it becomes [0,1,9,16,100].\n",
    "\n",
    "\n",
    "\n",
    "class Solution(object):\n",
    "    def sortedSquares(self, nums):\n",
    "        \"\"\"\n",
    "        :type nums: List[int]\n",
    "        :rtype: List[int]\n",
    "        \"\"\"\n",
    "        sqrd_array = []\n",
    "        self.nums = nums\n",
    "        for item in nums:\n",
    "            sqrd_array.append(item**2)\n",
    "        sqrd_array.sort()\n",
    "        return sqrd_array\n",
    "\n",
    "sol = Solution()\n",
    "nums = [-4,-1,0,3,10]\n",
    "print(sol.sortedSquares(nums))\n"
   ]
  },
  {
   "cell_type": "code",
   "execution_count": 67,
   "metadata": {},
   "outputs": [
    {
     "name": "stdout",
     "output_type": "stream",
     "text": [
      "[0, 1, 9, 16, 100]\n"
     ]
    }
   ],
   "source": [
    "# Given an integer array nums sorted in non-decreasing order, return an array of the squares of each number sorted in non-decreasing order.\n",
    "\n",
    "# Input: nums = [-4,-1,0,3,10]\n",
    "# Output: [0,1,9,16,100]\n",
    "# Explanation: After squaring, the array becomes [16,1,0,9,100].\n",
    "# After sorting, it becomes [0,1,9,16,100].\n",
    "### FASTER than above\n",
    "class Solution(object):\n",
    "    def sortedSquares(self, nums):\n",
    "        \"\"\"\n",
    "        :type nums: List[int]\n",
    "        :rtype: List[int]\n",
    "        \"\"\"\n",
    "        \n",
    "        self.nums = nums\n",
    "        new_array = [abs(num) for num in self.nums]\n",
    "        new_array.sort()\n",
    "        new_array_sq = [x**2 for x in new_array]\n",
    "        return new_array_sq\n",
    "\n",
    "sol = Solution()\n",
    "nums = [-4,-1,0,3,10]\n",
    "print(sol.sortedSquares(nums))"
   ]
  },
  {
   "cell_type": "code",
   "execution_count": 181,
   "metadata": {},
   "outputs": [
    {
     "name": "stdout",
     "output_type": "stream",
     "text": [
      "[0, 1, 2, 3, 4, 5, 6, 7, 1, 2, 3, 4, 5, 6, 7, 2, 3, 4, 5, 6, 7, 3, 4, 5, 6, 7, 4, 5, 6, 7, 5, 6, 7, 6, 7, 7, 0, 1, 2, 3, 4, 5, 6, 1, 2, 3, 4, 5, 6, 2, 3, 4, 5, 6, 3, 4, 5, 6, 4, 5, 6, 5, 6, 6, 0, 1, 2, 3, 4, 5, 1, 2, 3, 4, 5, 2, 3, 4, 5, 3, 4, 5, 4, 5, 5, 0, 1, 2, 3, 4, 1, 2, 3, 4, 2, 3, 4, 3, 4, 4, 0, 1, 2, 3, 1, 2, 3, 2, 3, 3, 0, 1, 2, 1, 2, 2, 0, 1, 1, 0]\n",
      "None\n"
     ]
    }
   ],
   "source": [
    "# Given an integer array arr, return the length of a maximum size turbulent subarray of arr.\n",
    "\n",
    "# A subarray is turbulent if the comparison sign flips between each adjacent pair of elements in the subarray.\n",
    "\n",
    "# More formally, a subarray [arr[i], arr[i + 1], ..., arr[j]] of arr is said to be turbulent if and only if:\n",
    "\n",
    "# For i <= k < j:\n",
    "# arr[k] > arr[k + 1] when k is odd, and\n",
    "# arr[k] < arr[k + 1] when k is even.\n",
    "# Or, for i <= k < j:\n",
    "# arr[k] > arr[k + 1] when k is even, and\n",
    "# arr[k] < arr[k + 1] when k is odd.\n",
    "\n",
    "# Input: arr = [9,4,2,10,7,8,8,1,9]\n",
    "# Output: 5\n",
    "# Explanation: arr[1] > arr[2] < arr[3] > arr[4] < arr[5]\n",
    "\n",
    "class Solution(object):\n",
    "    def maxTurbulenceSize(self, arr):\n",
    "        \"\"\"\n",
    "        :type arr: List[int]\n",
    "        :rtype: int\n",
    "        \"\"\"\n",
    "        indices1 = []\n",
    "        indices2 = []\n",
    "        self.arr = arr\n",
    "        maxim = len(self.arr)\n",
    "        for n in reversed(range(maxim)):\n",
    "            for i in range(0 , n):\n",
    "                for k in range(i , n):\n",
    "                    indices1.append(k)\n",
    "            \n",
    "                    if k % 2 == 0 and arr[k] < arr[k + 1]:\n",
    "                        indices2.append(n - i )\n",
    "                        if i % 2 != 0 and arr[k] > arr[k + 1]:\n",
    "                            indices2.append( n - i)\n",
    "        return print(indices1 )\n",
    "\n",
    "sol = Solution()\n",
    "arr = [9,4,2,10,7,8,8,1,9]\n",
    "\n",
    "print(sol.maxTurbulenceSize(arr))"
   ]
  },
  {
   "cell_type": "code",
   "execution_count": 195,
   "metadata": {},
   "outputs": [
    {
     "data": {
      "text/plain": [
       "4"
      ]
     },
     "execution_count": 195,
     "metadata": {},
     "output_type": "execute_result"
    }
   ],
   "source": [
    "# finds a \n",
    "\n",
    "class Solution(object):\n",
    "    def singleNumber(self, nums):\n",
    "        self.nums = nums\n",
    "        num_array = []\n",
    "        for num in self.nums:\n",
    "            if num not in num_array:\n",
    "                num_array.append(num)\n",
    "            elif num in num_array:\n",
    "                num_array.remove(num)\n",
    "        return num_array[0]\n",
    "\n",
    "sol = Solution()\n",
    "sol.singleNumber(nums = [4,1,2,1,2])\n",
    "        "
   ]
  },
  {
   "cell_type": "code",
   "execution_count": 6,
   "metadata": {},
   "outputs": [
    {
     "data": {
      "text/plain": [
       "[5, 6, 7, 1, 2, 3, 4]"
      ]
     },
     "execution_count": 6,
     "metadata": {},
     "output_type": "execute_result"
    }
   ],
   "source": [
    "# Given an array, rotate the array to the right by k steps, where k is non-negative.\n",
    "\n",
    "class Solution(object):\n",
    "\n",
    "        def rotate(self, nums, k):\n",
    "                self.nums = nums\n",
    "                copy = [num for num in self.nums] # copy the nums array\n",
    "                n = len(self.nums)\n",
    "                for i, num in enumerate(copy): # for every element in the copy\n",
    "                        self.nums[(i + k) % n] = copy[i]\n",
    "\n",
    "                return self.nums\n",
    "sol = Solution()\n",
    "sol.rotate(nums =[1,2,3,4,5,6,7] , k = 3)\n",
    "\n"
   ]
  },
  {
   "cell_type": "code",
   "execution_count": 62,
   "metadata": {},
   "outputs": [
    {
     "name": "stdout",
     "output_type": "stream",
     "text": [
      "(0, 0)\n"
     ]
    }
   ],
   "source": [
    "class Solution(object):\n",
    "    def twoSum(self, nums, target):\n",
    "        \"\"\"\n",
    "        :type nums: List[int]\n",
    "        :type target: int\n",
    "        :rtype: List[int]\n",
    "        \"\"\"\n",
    "        self.nums = nums\n",
    "        self.target = target\n",
    "        maxim = len(self.nums)\n",
    "\n",
    "        for i in range(maxim):\n",
    "            for j in range(i , maxim):\n",
    "                if self.nums[i] + self.nums[ i + j] == self.target:\n",
    "                    return i , j\n",
    "\n",
    "        # for num in self.nums:\n",
    "        #     for another_num in self.nums:\n",
    "        #         if self.target ==  num + another_num:\n",
    "        #             return self.nums.index(num), self.nums.index(another_num)\n",
    "\n",
    "\n",
    "sol = Solution()\n",
    "print(sol.twoSum(nums = [3,2,4] ,  target = 6))\n",
    "\n"
   ]
  },
  {
   "cell_type": "code",
   "execution_count": 218,
   "metadata": {},
   "outputs": [
    {
     "name": "stdout",
     "output_type": "stream",
     "text": [
      "False\n"
     ]
    }
   ],
   "source": [
    "# palindrome number:\n",
    "\n",
    "class Solution(object):\n",
    "    def isPalindrome(self, x):\n",
    "        \"\"\"\n",
    "        :type x: int\n",
    "        :rtype: bool\n",
    "        \"\"\"\n",
    "        self.x = x\n",
    "        stringx = str(self.x)\n",
    "        string_length = len(stringx)\n",
    "        middle = int(string_length/2)\n",
    "        if self.x <0:\n",
    "            return False\n",
    "        elif string_length == 1:\n",
    "            return True\n",
    "        \n",
    "        else:\n",
    "            \n",
    "            for i in range(0, middle):\n",
    "                stringx[i]\n",
    "                for j in reversed(range(string_length , middle, -1)):\n",
    "                    stringx[j]\n",
    "                    if stringx[i] == stringx[j]:\n",
    "                        return True\n",
    "                    else:\n",
    "                        return False\n",
    "\n",
    "sol = Solution()\n",
    "x = 12121\n",
    "print(sol.isPalindrome(x))\n",
    "\n"
   ]
  },
  {
   "cell_type": "code",
   "execution_count": 147,
   "metadata": {},
   "outputs": [
    {
     "name": "stdout",
     "output_type": "stream",
     "text": [
      "1\n",
      "2\n",
      "1\n",
      "2\n",
      "1\n"
     ]
    }
   ],
   "source": [
    "number = 12121\n",
    "stringx = str(number)\n",
    "\n",
    "for i in range(len(stringx)):\n",
    "    print(stringx[i])\n",
    "for i in reversed(range(len(stringx))):\n",
    "    print(stringx[i])"
   ]
  }
 ],
 "metadata": {
  "kernelspec": {
   "display_name": "Python 3.9.12 ('base')",
   "language": "python",
   "name": "python3"
  },
  "language_info": {
   "codemirror_mode": {
    "name": "ipython",
    "version": 3
   },
   "file_extension": ".py",
   "mimetype": "text/x-python",
   "name": "python",
   "nbconvert_exporter": "python",
   "pygments_lexer": "ipython3",
   "version": "3.9.12"
  },
  "orig_nbformat": 4,
  "vscode": {
   "interpreter": {
    "hash": "c9ca942ab1e3fc76fe5f355c17603564530410aceb3be569c15a86c2998452e6"
   }
  }
 },
 "nbformat": 4,
 "nbformat_minor": 2
}
